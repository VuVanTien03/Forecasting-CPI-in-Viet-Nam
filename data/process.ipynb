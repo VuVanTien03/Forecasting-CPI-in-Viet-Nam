{
 "cells": [
  {
   "cell_type": "code",
   "execution_count": 41,
   "id": "b60002e0",
   "metadata": {},
   "outputs": [],
   "source": [
    "import pandas as pd\n",
    "import numpy as np\n",
    "import os\n",
    "import sys\n",
    "import argparse\n",
    "import logging\n",
    "import time\n",
    "import json\n",
    "import re\n",
    "import random\n",
    "import time"
   ]
  },
  {
   "cell_type": "code",
   "execution_count": 42,
   "id": "4de58d1c",
   "metadata": {},
   "outputs": [],
   "source": [
    "oil_data = pd.read_csv(r'D:\\project\\Forecasting-CPI-in-Viet-Nam\\data\\Dữ liệu Lịch sử Hợp Đồng Tương Lai Dầu Thô WTI.csv')\n",
    "gold_data = pd.read_csv(r'D:\\project\\Forecasting-CPI-in-Viet-Nam\\data\\Dữ liệu Lịch sử Hợp đồng Tương lai Vàng.csv')\n",
    "interest_rate_data = pd.read_csv(r'D:\\project\\Forecasting-CPI-in-Viet-Nam\\data\\Dữ liệu Lịch sử Hợp đồng Tương lai Lãi suất Tiền gửi Liên Ngân hàng Một Ngày.csv')"
   ]
  },
  {
   "cell_type": "code",
   "execution_count": 43,
   "id": "c6504dad",
   "metadata": {},
   "outputs": [
    {
     "name": "stdout",
     "output_type": "stream",
     "text": [
      "Oil Data:\n",
      "         Ngày  Lần cuối     Mở    Cao   Thấp       KL % Thay đổi\n",
      "0  01/05/2025     59.62  58.16  59.86  55.39  887.51K      2.42%\n",
      "1  01/04/2025     58.21  71.39  72.28  55.12    6.86M    -18.56%\n",
      "2  01/03/2025     71.48  69.95  71.83  65.22    5.05M      2.47%\n",
      "3  01/02/2025     69.76  74.14  75.18  68.36    4.90M     -3.82%\n",
      "4  01/01/2025     72.53  71.85  80.77  71.79    6.29M      1.13%\n",
      "<class 'pandas.core.frame.DataFrame'>\n",
      "RangeIndex: 365 entries, 0 to 364\n",
      "Data columns (total 7 columns):\n",
      " #   Column      Non-Null Count  Dtype  \n",
      "---  ------      --------------  -----  \n",
      " 0   Ngày        365 non-null    object \n",
      " 1   Lần cuối    365 non-null    float64\n",
      " 2   Mở          365 non-null    float64\n",
      " 3   Cao         365 non-null    float64\n",
      " 4   Thấp        365 non-null    float64\n",
      " 5   KL          364 non-null    object \n",
      " 6   % Thay đổi  365 non-null    object \n",
      "dtypes: float64(4), object(3)\n",
      "memory usage: 20.1+ KB\n",
      "None\n",
      "Gold Data:\n",
      "         Ngày  Lần cuối        Mở       Cao      Thấp       KL % Thay đổi\n",
      "0  01/05/2025  3,399.79  3,312.30  3,406.71  3,226.50  622.78K      2.01%\n",
      "1  01/04/2025  3,332.70  3,157.30  3,509.90  2,970.40    5.01M      5.79%\n",
      "2  01/03/2025  3,150.30  2,896.10  3,162.00  2,883.20  452.19K     10.07%\n",
      "3  01/02/2025  2,862.20  2,846.50  2,974.00  2,802.20    3.12M      0.96%\n",
      "4  01/01/2025  2,835.00  2,652.00  2,862.90  2,638.90  386.65K      6.85%\n",
      "<class 'pandas.core.frame.DataFrame'>\n",
      "RangeIndex: 365 entries, 0 to 364\n",
      "Data columns (total 7 columns):\n",
      " #   Column      Non-Null Count  Dtype \n",
      "---  ------      --------------  ----- \n",
      " 0   Ngày        365 non-null    object\n",
      " 1   Lần cuối    365 non-null    object\n",
      " 2   Mở          365 non-null    object\n",
      " 3   Cao         365 non-null    object\n",
      " 4   Thấp        365 non-null    object\n",
      " 5   KL          365 non-null    object\n",
      " 6   % Thay đổi  365 non-null    object\n",
      "dtypes: object(7)\n",
      "memory usage: 20.1+ KB\n",
      "None\n",
      "Interest Rate Data:\n",
      "         Ngày    Lần cuối      Mở         Cao    Thấp       KL   % Thay đổi\n",
      "0  01/05/2025      14.550  14.484  98,929.063  14.484  468.32K      -99.99%\n",
      "1  01/04/2025  99,947.500  14.154  99,947.500  14.152    1.42M  706,242.78%\n",
      "2  01/03/2025      14.150  13.585      14.160  13.572    3.60M        7.60%\n",
      "3  01/02/2025      13.150  13.156      13.173  13.145    1.60M        0.00%\n",
      "4  01/01/2025      13.150  12.300      13.190  12.270    2.68M        8.19%\n",
      "<class 'pandas.core.frame.DataFrame'>\n",
      "RangeIndex: 309 entries, 0 to 308\n",
      "Data columns (total 7 columns):\n",
      " #   Column      Non-Null Count  Dtype  \n",
      "---  ------      --------------  -----  \n",
      " 0   Ngày        309 non-null    object \n",
      " 1   Lần cuối    309 non-null    object \n",
      " 2   Mở          309 non-null    float64\n",
      " 3   Cao         309 non-null    object \n",
      " 4   Thấp        309 non-null    float64\n",
      " 5   KL          309 non-null    object \n",
      " 6   % Thay đổi  309 non-null    object \n",
      "dtypes: float64(2), object(5)\n",
      "memory usage: 17.0+ KB\n",
      "None\n"
     ]
    }
   ],
   "source": [
    "print(\"Oil Data:\")\n",
    "print(oil_data.head())\n",
    "print(oil_data.info())\n",
    "print(\"Gold Data:\")\n",
    "print(gold_data.head())\n",
    "print(gold_data.info())\n",
    "print(\"Interest Rate Data:\")\n",
    "print(interest_rate_data.head())\n",
    "print(interest_rate_data.info())"
   ]
  },
  {
   "cell_type": "code",
   "execution_count": 44,
   "id": "2046723e",
   "metadata": {},
   "outputs": [
    {
     "name": "stdout",
     "output_type": "stream",
     "text": [
      "Exogenous Data:\n",
      "            oil_price  gold_price  interest_rate\n",
      "Ngày                                            \n",
      "1995-01-01      18.39       377.7            NaN\n",
      "1995-02-01      18.49       378.3            NaN\n",
      "1995-03-01      19.17       394.3            NaN\n",
      "1995-04-01      20.38       388.5            NaN\n",
      "1995-05-01      18.89       387.6            NaN\n"
     ]
    }
   ],
   "source": [
    "import pandas as pd\n",
    "import numpy as np\n",
    "import os\n",
    "\n",
    "# Hàm làm sạch giá trị số\n",
    "def clean_numeric(value):\n",
    "    try:\n",
    "        cleaned = str(value).replace(',', '').replace('%', '')\n",
    "        return float(cleaned)\n",
    "    except (ValueError, TypeError):\n",
    "        return np.nan\n",
    "\n",
    "# Hàm phát hiện outlier bằng IQR\n",
    "def remove_outliers(df, column):\n",
    "    Q1 = df[column].quantile(0.25)\n",
    "    Q3 = df[column].quantile(0.75)\n",
    "    IQR = Q3 - Q1\n",
    "    df.loc[df[column] > Q3 + 1.5 * IQR, column] = np.nan\n",
    "    df.loc[df[column] < Q1 - 1.5 * IQR, column] = np.nan\n",
    "    return df\n",
    "\n",
    "# Xử lý định dạng và làm sạch dữ liệu\n",
    "for df in [oil_data, gold_data, interest_rate_data]:\n",
    "    df['Ngày'] = pd.to_datetime(df['Ngày'], format='%d/%m/%Y')\n",
    "    if df['Lần cuối'].dtype == 'object':\n",
    "        df['Lần cuối'] = df['Lần cuối'].apply(clean_numeric)\n",
    "    df = remove_outliers(df, 'Lần cuối')\n",
    "\n",
    "# Chuyển Ngày về datetime\n",
    "for df in [oil_data, gold_data, interest_rate_data]:\n",
    "    df['Ngày'] = df['Ngày'].astype('period[M]').dt.to_timestamp()\n",
    "\n",
    "# Chọn cột cần thiết và đổi tên\n",
    "oil_data = oil_data[['Ngày', 'Lần cuối']].rename(columns={'Lần cuối': 'oil_price'})\n",
    "gold_data = gold_data[['Ngày', 'Lần cuối']].rename(columns={'Lần cuối': 'gold_price'})\n",
    "interest_rate_data = interest_rate_data[['Ngày', 'Lần cuối']].rename(columns={'Lần cuối': 'interest_rate'})\n",
    "\n",
    "# Gộp dữ liệu bằng outer merge\n",
    "exog_data = oil_data.merge(gold_data, on='Ngày', how='outer').merge(interest_rate_data, on='Ngày', how='outer')\n",
    "\n",
    "# Sắp xếp theo ngày\n",
    "exog_data = exog_data.sort_values('Ngày')\n",
    "# Đặt chỉ số là Ngày\n",
    "exog_data.set_index('Ngày', inplace=True)\n",
    "exog_data.index.freq = 'MS'\n",
    "\n",
    "print(\"Exogenous Data:\")\n",
    "print(exog_data.head())"
   ]
  },
  {
   "cell_type": "code",
   "execution_count": 45,
   "id": "dfb84316",
   "metadata": {},
   "outputs": [
    {
     "name": "stdout",
     "output_type": "stream",
     "text": [
      "Giá trị thiếu nội suy:\n",
      "oil_price         0\n",
      "gold_price        2\n",
      "interest_rate    77\n",
      "dtype: int64\n"
     ]
    }
   ],
   "source": [
    "# In giá trị thiếu trước nội suy\n",
    "print(\"Giá trị thiếu nội suy:\")\n",
    "print(exog_data[['oil_price', 'gold_price', 'interest_rate']].isnull().sum())\n"
   ]
  },
  {
   "cell_type": "code",
   "execution_count": 46,
   "id": "33a172d7",
   "metadata": {},
   "outputs": [
    {
     "name": "stdout",
     "output_type": "stream",
     "text": [
      "\n",
      "Dữ liệu ngoại sinh sau khi gộp và chuẩn hóa:\n",
      "            oil_price  gold_price  interest_rate\n",
      "Ngày                                            \n",
      "1995-01-01      18.39       377.7            NaN\n",
      "1995-02-01      18.49       378.3            NaN\n",
      "1995-03-01      19.17       394.3            NaN\n",
      "1995-04-01      20.38       388.5            NaN\n",
      "1995-05-01      18.89       387.6            NaN\n",
      "<class 'pandas.core.frame.DataFrame'>\n",
      "DatetimeIndex: 365 entries, 1995-01-01 to 2025-05-01\n",
      "Freq: MS\n",
      "Data columns (total 3 columns):\n",
      " #   Column         Non-Null Count  Dtype  \n",
      "---  ------         --------------  -----  \n",
      " 0   oil_price      365 non-null    float64\n",
      " 1   gold_price     365 non-null    float64\n",
      " 2   interest_rate  350 non-null    float64\n",
      "dtypes: float64(3)\n",
      "memory usage: 11.4 KB\n",
      "None\n",
      "Giá trị thiếu sau khi nội suy:\n",
      "oil_price         0\n",
      "gold_price        0\n",
      "interest_rate    15\n",
      "dtype: int64\n"
     ]
    }
   ],
   "source": [
    "# Nội suy giá trị thiếu\n",
    "exog_data[['oil_price', 'gold_price', 'interest_rate']] = exog_data[['oil_price', 'gold_price', 'interest_rate']].interpolate(method='linear')\n",
    "\n",
    "# Sau đó nội suy tiến/lùi để xử lý NaN đầu/cuối\n",
    "# exog_data[['oil_price', 'gold_price', 'interest_rate']] = exog_data[['oil_price', 'gold_price', 'interest_rate']].fillna(method='bfill').fillna(method='ffill')\n",
    "\n",
    "# In thông tin dữ liệu gộp\n",
    "print(\"\\nDữ liệu ngoại sinh sau khi gộp và chuẩn hóa:\")\n",
    "print(exog_data.head())\n",
    "print(exog_data.info())\n",
    "print(\"Giá trị thiếu sau khi nội suy:\")\n",
    "print(exog_data.isnull().sum())"
   ]
  },
  {
   "cell_type": "code",
   "execution_count": 47,
   "id": "fd8d33d7",
   "metadata": {},
   "outputs": [
    {
     "name": "stdout",
     "output_type": "stream",
     "text": [
      "\n",
      "Dữ liệu ngoại sinh sau khi gộp và chuẩn hóa:\n",
      "            oil_price  gold_price  interest_rate\n",
      "Ngày                                            \n",
      "1995-01-01      18.39       377.7            NaN\n",
      "1995-02-01      18.49       378.3            NaN\n",
      "1995-03-01      19.17       394.3            NaN\n",
      "1995-04-01      20.38       388.5            NaN\n",
      "1995-05-01      18.89       387.6            NaN\n",
      "<class 'pandas.core.frame.DataFrame'>\n",
      "DatetimeIndex: 365 entries, 1995-01-01 to 2025-05-01\n",
      "Freq: MS\n",
      "Data columns (total 3 columns):\n",
      " #   Column         Non-Null Count  Dtype  \n",
      "---  ------         --------------  -----  \n",
      " 0   oil_price      365 non-null    float64\n",
      " 1   gold_price     365 non-null    float64\n",
      " 2   interest_rate  350 non-null    float64\n",
      "dtypes: float64(3)\n",
      "memory usage: 11.4 KB\n",
      "None\n",
      "Giá trị thiếu sau khi nội suy:\n",
      "oil_price         0\n",
      "gold_price        0\n",
      "interest_rate    15\n",
      "dtype: int64\n"
     ]
    }
   ],
   "source": [
    "# Nội suy giá trị thiếu\n",
    "exog_data[['interest_rate']] = exog_data[['interest_rate']].interpolate(method='linear')\n",
    "# In thông tin dữ liệu gộp\n",
    "print(\"\\nDữ liệu ngoại sinh sau khi gộp và chuẩn hóa:\")\n",
    "print(exog_data.head())\n",
    "print(exog_data.info())\n",
    "print(\"Giá trị thiếu sau khi nội suy:\")\n",
    "print(exog_data.isnull().sum())"
   ]
  },
  {
   "cell_type": "code",
   "execution_count": 48,
   "id": "b5041150",
   "metadata": {},
   "outputs": [
    {
     "name": "stdout",
     "output_type": "stream",
     "text": [
      "\n",
      "Kiểm tra giá trị bất thường:\n",
      "Giá trị âm trong oil_price: 0\n",
      "Giá trị âm trong gold_price: 0\n",
      "Giá trị âm trong interest_rate: 0\n"
     ]
    }
   ],
   "source": [
    "# Lưu dữ liệu gộp\n",
    "exog_data.to_csv('exog_data.csv')\n",
    "\n",
    "# Kiểm tra dữ liệu bất thường\n",
    "print(\"\\nKiểm tra giá trị bất thường:\")\n",
    "print(\"Giá trị âm trong oil_price:\", (exog_data['oil_price'] < 0).sum())\n",
    "print(\"Giá trị âm trong gold_price:\", (exog_data['gold_price'] < 0).sum())\n",
    "print(\"Giá trị âm trong interest_rate:\", (exog_data['interest_rate'] < 0).sum())\n"
   ]
  },
  {
   "cell_type": "code",
   "execution_count": 53,
   "id": "18c48b32",
   "metadata": {},
   "outputs": [
    {
     "data": {
      "text/html": [
       "<div>\n",
       "<style scoped>\n",
       "    .dataframe tbody tr th:only-of-type {\n",
       "        vertical-align: middle;\n",
       "    }\n",
       "\n",
       "    .dataframe tbody tr th {\n",
       "        vertical-align: top;\n",
       "    }\n",
       "\n",
       "    .dataframe thead th {\n",
       "        text-align: right;\n",
       "    }\n",
       "</style>\n",
       "<table border=\"1\" class=\"dataframe\">\n",
       "  <thead>\n",
       "    <tr style=\"text-align: right;\">\n",
       "      <th></th>\n",
       "      <th>cpi</th>\n",
       "      <th>oil_price</th>\n",
       "      <th>gold_price</th>\n",
       "      <th>interest_rate</th>\n",
       "    </tr>\n",
       "  </thead>\n",
       "  <tbody>\n",
       "    <tr>\n",
       "      <th>1995-01-01</th>\n",
       "      <td>103.8</td>\n",
       "      <td>18.39</td>\n",
       "      <td>377.7</td>\n",
       "      <td>NaN</td>\n",
       "    </tr>\n",
       "    <tr>\n",
       "      <th>1995-02-01</th>\n",
       "      <td>103.4</td>\n",
       "      <td>18.49</td>\n",
       "      <td>378.3</td>\n",
       "      <td>NaN</td>\n",
       "    </tr>\n",
       "    <tr>\n",
       "      <th>1995-03-01</th>\n",
       "      <td>100.2</td>\n",
       "      <td>19.17</td>\n",
       "      <td>394.3</td>\n",
       "      <td>NaN</td>\n",
       "    </tr>\n",
       "    <tr>\n",
       "      <th>1995-04-01</th>\n",
       "      <td>101.0</td>\n",
       "      <td>20.38</td>\n",
       "      <td>388.5</td>\n",
       "      <td>NaN</td>\n",
       "    </tr>\n",
       "    <tr>\n",
       "      <th>1995-05-01</th>\n",
       "      <td>101.8</td>\n",
       "      <td>18.89</td>\n",
       "      <td>387.6</td>\n",
       "      <td>NaN</td>\n",
       "    </tr>\n",
       "  </tbody>\n",
       "</table>\n",
       "</div>"
      ],
      "text/plain": [
       "              cpi  oil_price  gold_price  interest_rate\n",
       "1995-01-01  103.8      18.39       377.7            NaN\n",
       "1995-02-01  103.4      18.49       378.3            NaN\n",
       "1995-03-01  100.2      19.17       394.3            NaN\n",
       "1995-04-01  101.0      20.38       388.5            NaN\n",
       "1995-05-01  101.8      18.89       387.6            NaN"
      ]
     },
     "execution_count": 53,
     "metadata": {},
     "output_type": "execute_result"
    }
   ],
   "source": [
    "import pandas as pd\n",
    "import numpy as np\n",
    "import os\n",
    "\n",
    "# Load và tiền xử lý dữ liệu\n",
    "cpi_data = pd.read_csv('cpi.csv', usecols=['t', 'cpi'])\n",
    "cpi_data.rename(columns={'t': 'date'}, inplace=True)\n",
    "cpi_data['time'] = pd.to_datetime(cpi_data['date'], format='%b-%y')\n",
    "cpi_data.set_index('time', inplace=True)\n",
    "cpi_data['cpi'] = cpi_data['cpi']\n",
    "cpi_data = cpi_data[['cpi']].dropna()\n",
    "\n",
    "exog_data = pd.read_csv('exog_data.csv')\n",
    "exog_data['Ngày'] = pd.to_datetime(exog_data['Ngày'])\n",
    "exog_data.set_index('Ngày', inplace=True)\n",
    "exog_cols = ['oil_price', 'gold_price', 'interest_rate']\n",
    "\n",
    "# Join và xử lý NaN\n",
    "data = cpi_data.join(exog_data, how='inner')\n",
    "data.head()"
   ]
  },
  {
   "cell_type": "code",
   "execution_count": 54,
   "id": "8c67ce21",
   "metadata": {},
   "outputs": [
    {
     "data": {
      "text/html": [
       "<div>\n",
       "<style scoped>\n",
       "    .dataframe tbody tr th:only-of-type {\n",
       "        vertical-align: middle;\n",
       "    }\n",
       "\n",
       "    .dataframe tbody tr th {\n",
       "        vertical-align: top;\n",
       "    }\n",
       "\n",
       "    .dataframe thead th {\n",
       "        text-align: right;\n",
       "    }\n",
       "</style>\n",
       "<table border=\"1\" class=\"dataframe\">\n",
       "  <thead>\n",
       "    <tr style=\"text-align: right;\">\n",
       "      <th></th>\n",
       "      <th>cpi</th>\n",
       "      <th>oil_price</th>\n",
       "      <th>gold_price</th>\n",
       "    </tr>\n",
       "  </thead>\n",
       "  <tbody>\n",
       "    <tr>\n",
       "      <th>1995-01-01</th>\n",
       "      <td>103.8</td>\n",
       "      <td>18.39</td>\n",
       "      <td>377.7</td>\n",
       "    </tr>\n",
       "    <tr>\n",
       "      <th>1995-02-01</th>\n",
       "      <td>103.4</td>\n",
       "      <td>18.49</td>\n",
       "      <td>378.3</td>\n",
       "    </tr>\n",
       "    <tr>\n",
       "      <th>1995-03-01</th>\n",
       "      <td>100.2</td>\n",
       "      <td>19.17</td>\n",
       "      <td>394.3</td>\n",
       "    </tr>\n",
       "    <tr>\n",
       "      <th>1995-04-01</th>\n",
       "      <td>101.0</td>\n",
       "      <td>20.38</td>\n",
       "      <td>388.5</td>\n",
       "    </tr>\n",
       "    <tr>\n",
       "      <th>1995-05-01</th>\n",
       "      <td>101.8</td>\n",
       "      <td>18.89</td>\n",
       "      <td>387.6</td>\n",
       "    </tr>\n",
       "  </tbody>\n",
       "</table>\n",
       "</div>"
      ],
      "text/plain": [
       "              cpi  oil_price  gold_price\n",
       "1995-01-01  103.8      18.39       377.7\n",
       "1995-02-01  103.4      18.49       378.3\n",
       "1995-03-01  100.2      19.17       394.3\n",
       "1995-04-01  101.0      20.38       388.5\n",
       "1995-05-01  101.8      18.89       387.6"
      ]
     },
     "execution_count": 54,
     "metadata": {},
     "output_type": "execute_result"
    }
   ],
   "source": [
    "data = data[['cpi', 'oil_price', 'gold_price']]\n",
    "data.head()"
   ]
  },
  {
   "cell_type": "code",
   "execution_count": 55,
   "id": "d7c4636b",
   "metadata": {},
   "outputs": [
    {
     "name": "stdout",
     "output_type": "stream",
     "text": [
      "Dữ liệu đã được lưu vào data.csv\n"
     ]
    }
   ],
   "source": [
    "data.to_csv('data.csv')\n",
    "print(\"Dữ liệu đã được lưu vào data.csv\")"
   ]
  }
 ],
 "metadata": {
  "kernelspec": {
   "display_name": "python39",
   "language": "python",
   "name": "python3"
  },
  "language_info": {
   "codemirror_mode": {
    "name": "ipython",
    "version": 3
   },
   "file_extension": ".py",
   "mimetype": "text/x-python",
   "name": "python",
   "nbconvert_exporter": "python",
   "pygments_lexer": "ipython3",
   "version": "3.9.15"
  }
 },
 "nbformat": 4,
 "nbformat_minor": 5
}
